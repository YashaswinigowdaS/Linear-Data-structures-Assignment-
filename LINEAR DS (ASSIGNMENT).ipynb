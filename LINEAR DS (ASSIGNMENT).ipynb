{
 "cells": [
  {
   "cell_type": "markdown",
   "id": "4bbd3d3c",
   "metadata": {},
   "source": [
    "# Q1. Write a program to find all pairs of an integer array whose sum is equal to a given number?"
   ]
  },
  {
   "cell_type": "code",
   "execution_count": 1,
   "id": "68a73d8e",
   "metadata": {},
   "outputs": [
    {
     "name": "stdout",
     "output_type": "stream",
     "text": [
      "Number of pairs whose sum is equal to given number : 1\n"
     ]
    }
   ],
   "source": [
    "def pair_sum(arr, n, given_num):\n",
    "              count = 0\n",
    "              for i in range(0,n):\n",
    "                  for j in range(i+1,n):\n",
    "                      if arr[i]+arr[j] == given_num:\n",
    "                          count+=1\n",
    "              print(\"Number of pairs whose sum is equal to given number :\",count)\n",
    "\n",
    "pair_sum([1,2,3,4,5],5,8)\n",
    "     "
   ]
  },
  {
   "cell_type": "markdown",
   "id": "518ba3f3",
   "metadata": {},
   "source": [
    "# Q2. Write a program to reverse an array in place? In place means you cannot create a new array. You have to update the original array."
   ]
  },
  {
   "cell_type": "code",
   "execution_count": 2,
   "id": "08214510",
   "metadata": {},
   "outputs": [
    {
     "name": "stdout",
     "output_type": "stream",
     "text": [
      "Reverse of given array is : [9, 8, 7, 6, 5, 4, 3, 2, 1]\n"
     ]
    }
   ],
   "source": [
    "def reverse_arr(arr):\n",
    "              print(\"Reverse of given array is :\",arr[::-1])\n",
    "\n",
    "reverse_arr([1,2,3,4,5,6,7,8,9])\n",
    "     "
   ]
  },
  {
   "cell_type": "markdown",
   "id": "d7054c91",
   "metadata": {},
   "source": [
    "# Q3. Write a program to check if two strings are a rotation of each other?"
   ]
  },
  {
   "cell_type": "code",
   "execution_count": 3,
   "id": "a835d789",
   "metadata": {},
   "outputs": [
    {
     "name": "stdout",
     "output_type": "stream",
     "text": [
      "Enter first string :Hello\n",
      "Enter second string :World\n",
      "The two strings are not rotation of each other\n"
     ]
    }
   ],
   "source": [
    "str1 = input(\"Enter first string :\")\n",
    "str2 = input(\"Enter second string :\")\n",
    "n1 = len(str1)\n",
    "n2 = len(str2)\n",
    "concat = ''\n",
    "if n1 != n2:\n",
    "    print(\"The two strings are not rotation of each other\")\n",
    "else:\n",
    "    concat = str1+str1\n",
    "    if str2 in concat:\n",
    "        print(\"The two strings are rotation of each other\")\n",
    "    else:\n",
    "        print(\"The two strings are not rotation of each other\")"
   ]
  },
  {
   "cell_type": "markdown",
   "id": "1873101a",
   "metadata": {},
   "source": [
    "# Q4. Write a program to print the first non-repeated character from a string?"
   ]
  },
  {
   "cell_type": "code",
   "execution_count": 4,
   "id": "4f731fe5",
   "metadata": {},
   "outputs": [
    {
     "name": "stdout",
     "output_type": "stream",
     "text": [
      "give the string:Hello\n",
      "First non-repeating character is H\n"
     ]
    }
   ],
   "source": [
    "def nonRepeat():\n",
    "    string = input('give the string:')\n",
    "    for i in string:\n",
    "        if (string.find(i, (string.find(i)+1))) == -1:\n",
    "            print(\"First non-repeating character is\", i)\n",
    "            break\n",
    "    return\n",
    "\n",
    "nonRepeat()"
   ]
  },
  {
   "cell_type": "markdown",
   "id": "d3d971c6",
   "metadata": {},
   "source": [
    "# Q5. Read about the Tower of Hanoi algorithm. Write a program to implement it.\n",
    "\n"
   ]
  },
  {
   "cell_type": "code",
   "execution_count": 5,
   "id": "b40dc575",
   "metadata": {},
   "outputs": [
    {
     "name": "stdout",
     "output_type": "stream",
     "text": [
      "Move disk 1 from rod P to rod Q\n",
      "Move disk 2 from rod P to rod R\n",
      "Move disk 1 from rod Q to rod R\n",
      "Move disk 3 from rod P to rod Q\n",
      "Move disk 1 from rod R to rod P\n",
      "Move disk 2 from rod R to rod Q\n",
      "Move disk 1 from rod P to rod Q\n"
     ]
    }
   ],
   "source": [
    "def TowerOfHanoi(n , tower1, tower2, tower3):\n",
    "              if n == 1:\n",
    "                  print(\"Move disk 1 from rod\",tower1,\"to rod\",tower2)\n",
    "                  return\n",
    "              TowerOfHanoi(n-1, tower1, tower3, tower2)\n",
    "              print(\"Move disk\",n,\"from rod\",tower1,\"to rod\",tower2)\n",
    "              TowerOfHanoi(n-1, tower3, tower2, tower1)\n",
    "\n",
    "TowerOfHanoi(3,'P','Q','R')"
   ]
  },
  {
   "cell_type": "markdown",
   "id": "84157996",
   "metadata": {},
   "source": [
    "# Q6. Read about infix, prefix, and postfix expressions. Write a program to convert postfix to prefix expression."
   ]
  },
  {
   "cell_type": "code",
   "execution_count": 6,
   "id": "3e20ed18",
   "metadata": {},
   "outputs": [
    {
     "name": "stdout",
     "output_type": "stream",
     "text": [
      "Enter the expression:\"AB+CD\"\n",
      "Prefix :  \"+ABCD\"\n"
     ]
    }
   ],
   "source": [
    "def operatorValidater(x):\n",
    "\n",
    "    if x in [\"+\",\"-\",\"/\",\"*\"]:\n",
    "        return True\n",
    "\n",
    "    return False\n",
    "\n",
    "\n",
    "def postToPre():\n",
    "    expression = input('Enter the expression:')\n",
    "    s = []\n",
    "    length = len(expression)\n",
    "\n",
    "    for i in range(length):\n",
    "        if (operatorValidater(expression[i])):\n",
    "            op1 = s[-1]\n",
    "            s.pop()\n",
    "            op2 = s[-1]\n",
    "            s.pop()\n",
    "            temp = expression[i] + op2 + op1\n",
    "            s.append(temp)\n",
    "\n",
    "        else:\n",
    "            s.append(expression[i])\n",
    "\n",
    "    ans = \"\"\n",
    "    for i in s:\n",
    "        ans += i\n",
    "    return ans\n",
    "\n",
    "# post_exp = \"AB+CD-\"\n",
    "\n",
    "# Function call\n",
    "print(\"Prefix : \", postToPre())"
   ]
  },
  {
   "cell_type": "markdown",
   "id": "341b97df",
   "metadata": {},
   "source": [
    "# Q7. Write a program to convert prefix expression to infix expression."
   ]
  },
  {
   "cell_type": "code",
   "execution_count": 1,
   "id": "d8e9ca62",
   "metadata": {},
   "outputs": [
    {
     "name": "stdout",
     "output_type": "stream",
     "text": [
      "enter the expression:\"*-A/BC-/AKL\"\n",
      "\"\n"
     ]
    }
   ],
   "source": [
    "def prefixToInfix():\n",
    "    prefix = input('enter the expression:')\n",
    "    stack = []\n",
    "    i = len(prefix) - 1\n",
    "    while i >= 0:\n",
    "        if not operatorValidater(prefix[i]):\n",
    "            stack.append(prefix[i])\n",
    "            i -= 1\n",
    "        else:\n",
    "            str = \"(\" + stack.pop() + prefix[i] + stack.pop() + \")\"\n",
    "            stack.append(str)\n",
    "            i -= 1\n",
    "    return stack.pop()\n",
    "\n",
    "def operatorValidater(x):\n",
    "    if x in [\"+\",\"-\",\"/\",\"*\", \"^\", \"(\", \")\"]:\n",
    "        return True\n",
    "    return False\n",
    "\n",
    "\n",
    "# str = \"*-A/BC-/AKL\"\n",
    "print(prefixToInfix())"
   ]
  },
  {
   "cell_type": "markdown",
   "id": "002102cb",
   "metadata": {},
   "source": [
    "# Q8. Write a program to check if all the brackets are closed in a given code snippet."
   ]
  },
  {
   "cell_type": "code",
   "execution_count": 2,
   "id": "7f6647fa",
   "metadata": {},
   "outputs": [
    {
     "name": "stdout",
     "output_type": "stream",
     "text": [
      "All Brackets closed\n"
     ]
    }
   ],
   "source": [
    "def Brackets(expr):\n",
    "    stack = []\n",
    "\n",
    "    for char in expr:\n",
    "        if char in [\"(\", \"{\", \"[\"]:\n",
    "            stack.append(char)\n",
    "        else:\n",
    "            if not stack:\n",
    "                return False\n",
    "            current_char = stack.pop()\n",
    "            if current_char == '(':\n",
    "                if char != \")\":\n",
    "                    return False\n",
    "            if current_char == '{':\n",
    "                if char != \"}\":\n",
    "                    return False\n",
    "            if current_char == '[':\n",
    "                if char != \"]\":\n",
    "                    return False\n",
    "\n",
    "    if stack:\n",
    "        return False\n",
    "    return True\n",
    "\n",
    "expr = \"{()}[]\"\n",
    "if Brackets(expr):\n",
    "    print(\"All Brackets closed\")\n",
    "else:\n",
    "    print(\"All Brackets not closed\")"
   ]
  },
  {
   "cell_type": "markdown",
   "id": "8245330e",
   "metadata": {},
   "source": [
    "# Q9. Write a program to reverse a stack."
   ]
  },
  {
   "cell_type": "code",
   "execution_count": 3,
   "id": "e845ca7b",
   "metadata": {},
   "outputs": [
    {
     "name": "stdout",
     "output_type": "stream",
     "text": [
      "Original Stack\n",
      "50\n",
      "40\n",
      "300\n",
      "200\n",
      "100\n",
      "\n",
      "Stack after Reversing\n",
      "100\n",
      "200\n",
      "300\n",
      "40\n",
      "50\n"
     ]
    }
   ],
   "source": [
    "class Stack:\n",
    "\n",
    "    def __init__(self):\n",
    "        self.Elements = []\n",
    "\n",
    "    def push(self, value):\n",
    "        self.Elements.append(value)\n",
    "\n",
    "    def pop(self):\n",
    "        return self.Elements.pop()\n",
    "\n",
    "    def empty(self):\n",
    "        return self.Elements == []\n",
    "\n",
    "    def show(self):\n",
    "        for value in reversed(self.Elements):\n",
    "            print(value)\n",
    "\n",
    "\n",
    "def BottomInsert(self, value):\n",
    "    if self.empty():\n",
    "        self.push(value)\n",
    "\n",
    "    else:\n",
    "        popped = self.pop()\n",
    "        BottomInsert(self, value)\n",
    "        self.push(popped) \n",
    "\n",
    "def Reverse(self):\n",
    "    if self.empty():\n",
    "        pass\n",
    "    else:\n",
    "        popped = self.pop()\n",
    "        Reverse(self)\n",
    "        BottomInsert(self, popped)\n",
    "\n",
    "\n",
    "stk = Stack()\n",
    "stk.push(100)\n",
    "stk.push(200)\n",
    "stk.push(300)\n",
    "stk.push(40)\n",
    "stk.push(50)\n",
    "\n",
    "print(\"Original Stack\")\n",
    "stk.show()\n",
    "\n",
    "print(\"\\nStack after Reversing\")\n",
    "Reverse(stk)\n",
    "stk.show()"
   ]
  },
  {
   "cell_type": "markdown",
   "id": "cbe39ff4",
   "metadata": {},
   "source": [
    "# Q10. Write a program to find the smallest number using a stack."
   ]
  },
  {
   "cell_type": "code",
   "execution_count": 4,
   "id": "a95a93c4",
   "metadata": {},
   "outputs": [
    {
     "name": "stdout",
     "output_type": "stream",
     "text": [
      "Number Inserted: 10\n",
      "Number Inserted: 19\n",
      "Minimum Element in the stack is: 10\n",
      "Number Inserted: 32\n",
      "Number Inserted: 12\n",
      "Minimum Element in the stack is: 10\n",
      "Top Most Element Removed : 12\n",
      "Minimum Element in the stack is: 10\n",
      "Top Most Element Removed : 32\n",
      "Top Most Element is: 19\n"
     ]
    }
   ],
   "source": [
    "\n",
    "class Node:\n",
    "    def __init__(self, value):\n",
    "        self.value = value\n",
    "        self.next = None\n",
    "\n",
    "    def __str__(self):\n",
    "        return \"Node({})\".format(self.value)\n",
    "\n",
    "    __repr__ = __str__\n",
    "\n",
    "\n",
    "class Stack:\n",
    "    def __init__(self):\n",
    "        self.top = None\n",
    "        self.count = 0\n",
    "        self.minimum = None\n",
    "\n",
    "    def __str__(self):\n",
    "        temp = self.top\n",
    "        out = []\n",
    "        while temp:\n",
    "            out.append(str(temp.value))\n",
    "            temp = temp.next\n",
    "        out = '\\n'.join(out)\n",
    "        return ('Top {} \\n\\nStack :\\n{}'.format(self.top,out))\n",
    "\n",
    "    __repr__=__str__\n",
    "\n",
    "    def getMin(self):\n",
    "        if self.top is None:\n",
    "            return \"Stack is empty\"\n",
    "        else:\n",
    "            print(\"Minimum Element in the stack is: {}\" .format(self.minimum))\n",
    "\n",
    "\n",
    "\n",
    "    def isEmpty(self):\n",
    "        if self.top == None:\n",
    "            return True\n",
    "        else:\n",
    "            return False\n",
    "\n",
    "    def __len__(self):\n",
    "        self.count = 0\n",
    "        tempNode = self.top\n",
    "        while tempNode:\n",
    "            tempNode = tempNode.next\n",
    "            self.count+=1\n",
    "        return self.count\n",
    "\n",
    "    def peek(self):\n",
    "        if self.top is None:\n",
    "            print (\"Stack is empty\")\n",
    "        else:\n",
    "            if self.top.value < self.minimum:\n",
    "                print(\"Top Most Element is: {}\" .format(self.minimum))\n",
    "            else:\n",
    "                print(\"Top Most Element is: {}\" .format(self.top.value))\n",
    "\n",
    "    def push(self,value):\n",
    "        if self.top is None:\n",
    "            self.top = Node(value)\n",
    "            self.minimum = value\n",
    "\n",
    "        elif value < self.minimum:\n",
    "            temp = (2 * value) - self.minimum\n",
    "            new_node = Node(temp)\n",
    "            new_node.next = self.top\n",
    "            self.top = new_node\n",
    "            self.minimum = value\n",
    "        else:\n",
    "            new_node = Node(value)\n",
    "            new_node.next = self.top\n",
    "            self.top = new_node\n",
    "        print(\"Number Inserted: {}\" .format(value))\n",
    "\n",
    "    def pop(self):\n",
    "        if self.top is None:\n",
    "            print( \"Stack is empty\")\n",
    "        else:\n",
    "            removedNode = self.top.value\n",
    "            self.top = self.top.next\n",
    "            if removedNode < self.minimum:\n",
    "                print (\"Top Most Element Removed :{} \" .format(self.minimum))\n",
    "                self.minimum = ( ( 2 * self.minimum ) - removedNode )\n",
    "            else:\n",
    "                print (\"Top Most Element Removed : {}\" .format(removedNode))\n",
    "\n",
    "stack = Stack()\n",
    "\n",
    "stack.push(10)\n",
    "stack.push(19)\n",
    "stack.getMin()\n",
    "stack.push(32)\n",
    "stack.push(12)\n",
    "stack.getMin()    \n",
    "stack.pop()\n",
    "stack.getMin()\n",
    "stack.pop()\n",
    "stack.peek()"
   ]
  },
  {
   "cell_type": "code",
   "execution_count": null,
   "id": "eff28ace",
   "metadata": {},
   "outputs": [],
   "source": []
  }
 ],
 "metadata": {
  "kernelspec": {
   "display_name": "Python 3 (ipykernel)",
   "language": "python",
   "name": "python3"
  },
  "language_info": {
   "codemirror_mode": {
    "name": "ipython",
    "version": 3
   },
   "file_extension": ".py",
   "mimetype": "text/x-python",
   "name": "python",
   "nbconvert_exporter": "python",
   "pygments_lexer": "ipython3",
   "version": "3.11.0"
  }
 },
 "nbformat": 4,
 "nbformat_minor": 5
}
